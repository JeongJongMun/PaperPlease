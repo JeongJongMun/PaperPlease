{
 "cells": [
  {
   "cell_type": "code",
   "execution_count": 1,
   "metadata": {},
   "outputs": [],
   "source": [
    "from langchain import hub\n",
    "# obj = ChatPromptTemplate()\n",
    "obj = hub.pull(\"hardkothari/prompt-maker\")"
   ]
  },
  {
   "cell_type": "code",
   "execution_count": 4,
   "metadata": {},
   "outputs": [
    {
     "name": "stdout",
     "output_type": "stream",
     "text": [
      "As an expert in research topics and papers, your task is to develop an algorithm that can accurately extract the name of a research topic or research paper from a given user input. The algorithm should only return the topic or name and exclude any other words. \n",
      "\n",
      "### Context:\n",
      "You are working on a natural language processing project and have been provided with a dataset of user inputs containing various research topics and paper titles. These inputs may include additional words or phrases that are not part of the actual topic or name.\n",
      "\n",
      "### Instructions:\n",
      "Develop an algorithm that can identify and extract the research topic or paper name from a given user input. The algorithm should consider different variations of input formats, such as sentences, phrases, or even single words. It should be able to handle different languages and take into account common research-related words or phrases.\n",
      "\n",
      "### Outcome:\n",
      "Your algorithm should return the extracted research topic or paper name accurately, excluding any other words or phrases that are not part of the topic or name. The output should be in a clear and understandable format.\n",
      "\n",
      "### Example:\n",
      "User Input: \"I am currently working on a research paper titled 'The Impact of Climate Change on Biodiversity Conservation in Tropical Rainforests'.\"\n",
      "\n",
      "Extracted Topic: \"The Impact of Climate Change on Biodiversity Conservation in Tropical Rainforests\"\n",
      "\n",
      "Note: The extracted topic should not include the surrounding words or phrases, such as \"I am currently working on a research paper titled\" in this example.\n"
     ]
    },
    {
     "data": {
      "text/plain": [
       "'\\nAs an expert in researching and summarizing research papers, your task is to conduct a comprehensive search on a given topic and provide a concise summary of the key findings and insights from the selected papers. Your summary should include an overview of the research question, methodology, results, and conclusions of each paper. Additionally, please organize the summaries in a logical and coherent manner, highlighting any common themes or patterns that emerge from the research. Aim to provide a well-structured and informative summary that can serve as a valuable resource for readers seeking a quick understanding of the current state of research on the topic.\\n'"
      ]
     },
     "execution_count": 4,
     "metadata": {},
     "output_type": "execute_result"
    }
   ],
   "source": [
    "from langchain.chat_models import ChatOpenAI\n",
    "\n",
    "llm = ChatOpenAI()\n",
    "# prompt = llm(obj.format_messages(task=\"search and summarize artificial intelligence research paper\", lazy_prompt=\"you are a expert about searching and summarize about research paper\"))\n",
    "prompt = llm(obj.format_messages(task=\"Extract the name of a research topic or research paper\", lazy_prompt=\"Extract a research topic or research paper name from a given user input. Do not return any words other than the topic or name\"))\n",
    "\n",
    "print(prompt.content)\n",
    "\n",
    "\"\"\"\n",
    "As an expert in researching and summarizing research papers, your task is to conduct a comprehensive search on a given topic and provide a concise summary of the key findings and insights from the selected papers. Your summary should include an overview of the research question, methodology, results, and conclusions of each paper. Additionally, please organize the summaries in a logical and coherent manner, highlighting any common themes or patterns that emerge from the research. Aim to provide a well-structured and informative summary that can serve as a valuable resource for readers seeking a quick understanding of the current state of research on the topic.\n",
    "\"\"\"\n"
   ]
  },
  {
   "cell_type": "code",
   "execution_count": 13,
   "metadata": {},
   "outputs": [],
   "source": [
    "import os\n",
    "\n",
    "from flask import Flask, Response, request, render_template\n",
    "import threading\n",
    "import queue\n",
    "\n",
    "from langchain.chat_models import ChatOpenAI\n",
    "from langchain.callbacks.streaming_stdout import StreamingStdOutCallbackHandler\n",
    "from langchain.schema import AIMessage, HumanMessage, SystemMessage\n",
    "\n",
    "from metaphor_python import Metaphor\n",
    "from langchain.agents import tool\n",
    "from typing import List\n",
    "\n",
    "from langchain.schema import StrOutputParser\n",
    "from langchain.prompts import ChatPromptTemplate\n",
    "\n",
    "class ChainStreamHandler(StreamingStdOutCallbackHandler):\n",
    "    def __init__(self, gen):\n",
    "        super().__init__()\n",
    "        self.gen = gen\n",
    "\n",
    "    def on_llm_new_token(self, token: str, **kwargs):\n",
    "        self.gen.send(token)\n",
    "        \n",
    "class ThreadedGenerator:\n",
    "    def __init__(self):\n",
    "        self.queue = queue.Queue()\n",
    "\n",
    "    def __iter__(self):\n",
    "        return self\n",
    "\n",
    "    def __next__(self):\n",
    "        item = self.queue.get()\n",
    "        if item is StopIteration: raise item\n",
    "        return item\n",
    "\n",
    "    def send(self, data):\n",
    "        self.queue.put(data)\n",
    "\n",
    "    def close(self):\n",
    "        self.queue.put(StopIteration)\n",
    "\n",
    "llm = ChatOpenAI(model=\"gpt-3.5-turbo-1106\", verbose=True, streaming=True, callbacks=[ChainStreamHandler(ThreadedGenerator())], temperature=0.7)\n",
    "prompt = ChatPromptTemplate.from_messages([\n",
    "    (\"system\", \"As an expert in researching and summarizing research papers, your task is to conduct a comprehensive search on a given topic and provide a concise summary of the key findings and insights from the selected papers. Your summary should include an overview of the research question, methodology, results, and conclusions of each paper. Additionally, please organize the summaries in a logical and coherent manner, highlighting any common themes or patterns that emerge from the research. Aim to provide a well-structured and informative summary that can serve as a valuable resource for readers seeking a quick understanding of the current state of research on the topic.\"),\n",
    "    (\"human\", \"{question}\"),    \n",
    "])\n",
    "chain = prompt | llm | StrOutputParser()\n",
    "\n",
    "\n",
    "chain.invoke({\"question\" : \"Tell me a joke\"})"
   ]
  }
 ],
 "metadata": {
  "kernelspec": {
   "display_name": "dlenv",
   "language": "python",
   "name": "python3"
  },
  "language_info": {
   "codemirror_mode": {
    "name": "ipython",
    "version": 3
   },
   "file_extension": ".py",
   "mimetype": "text/x-python",
   "name": "python",
   "nbconvert_exporter": "python",
   "pygments_lexer": "ipython3",
   "version": "3.10.13"
  }
 },
 "nbformat": 4,
 "nbformat_minor": 2
}
