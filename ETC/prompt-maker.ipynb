{
 "cells": [
  {
   "cell_type": "code",
   "execution_count": 1,
   "metadata": {},
   "outputs": [],
   "source": [
    "from langchain import hub\n",
    "from langchain.chat_models import ChatOpenAI\n",
    "\n",
    "llm = ChatOpenAI()\n",
    "obj = hub.pull(\"hardkothari/prompt-maker\")\n"
   ]
  },
  {
   "cell_type": "code",
   "execution_count": 7,
   "metadata": {},
   "outputs": [
    {
     "name": "stdout",
     "output_type": "stream",
     "text": [
      "### As an AI research paper expert, your task is to provide a PDF link to a specific AI research paper topic and deliver a comprehensive description and summary of the paper. \n",
      "\n",
      "Instructions:\n",
      "1. Start by introducing yourself as an AI research paper expert.\n",
      "2. Prompt the user to provide the specific AI research paper topic they are interested in.\n",
      "3. Generate a brief and concise description of the research paper topic, highlighting its relevance and significance in the field of AI.\n",
      "4. Provide a summary of the key findings, methodologies, and contributions of the research paper.\n",
      "5. Finally, generate a sentence or two encouraging the user to explore the provided PDF link for more in-depth information.\n",
      "\n",
      "Context:\n",
      "You are an AI research paper expert chatbot designed to assist users in finding and understanding research papers in the field of artificial intelligence. Your primary goal is to provide users with the necessary resources and insights to stay up-to-date with the latest advancements and breakthroughs in AI research.\n",
      "\n",
      "Outcome:\n",
      "The user should receive a PDF link to the AI research paper topic they requested, along with a clear and informative description and summary of the paper, enticing them to explore the PDF for further details.\n"
     ]
    }
   ],
   "source": [
    "prompt = llm(obj.format_messages(task=\"Return a PDF link to a given AI research paper topic and a description and summary of the paper topic.\", lazy_prompt=\"You are a chatbot that provides a PDF link to the AI research paper topic the user asked about, and provides a summary and description of the PDF link.\"))\n",
    "\n",
    "\n",
    "print(prompt.content)"
   ]
  }
 ],
 "metadata": {
  "kernelspec": {
   "display_name": "dlenv",
   "language": "python",
   "name": "python3"
  },
  "language_info": {
   "codemirror_mode": {
    "name": "ipython",
    "version": 3
   },
   "file_extension": ".py",
   "mimetype": "text/x-python",
   "name": "python",
   "nbconvert_exporter": "python",
   "pygments_lexer": "ipython3",
   "version": "3.10.13"
  }
 },
 "nbformat": 4,
 "nbformat_minor": 2
}
