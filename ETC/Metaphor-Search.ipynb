{
 "cells": [
  {
   "cell_type": "code",
   "execution_count": 1,
   "metadata": {},
   "outputs": [],
   "source": [
    "import os\n",
    "\n",
    "os.environ[\"METAPHOR_API_KEY\"] = \"67cc1aa8-a38c-4618-93a5-ab368f439423\"\n"
   ]
  },
  {
   "cell_type": "code",
   "execution_count": 2,
   "metadata": {},
   "outputs": [],
   "source": [
    "from metaphor_python import Metaphor\n",
    "from langchain.agents import tool, tools\n",
    "from typing import List\n",
    "\n",
    "client = Metaphor(api_key=os.environ[\"METAPHOR_API_KEY\"])\n",
    "\n",
    "@tool\n",
    "def search(query: str):\n",
    "    \"\"\"Call search engine with a research paper title or query.\n",
    "    you must get from arxiv\"\"\"\n",
    "    return client.search(query, use_autoprompt=True, num_results=1)\n",
    "\n",
    "\n",
    "@tool\n",
    "def get_contents(ids: List[str]):\n",
    "    \"\"\"Get contents of a webpage.\n",
    "\n",
    "    The ids passed in should be a list of ids as fetched from `search`.\n",
    "    \"\"\"\n",
    "    return client.get_contents(ids)\n",
    "\n",
    "\n",
    "@tool\n",
    "def find_similar(url: str):\n",
    "    \"\"\"Get search results similar to a given URL.\n",
    "\n",
    "    The url passed in should be a URL returned from `search`\n",
    "    \"\"\"\n",
    "    return client.find_similar(url, num_results=1)\n",
    "\n",
    "tools = [search, get_contents, find_similar]"
   ]
  },
  {
   "cell_type": "code",
   "execution_count": 3,
   "metadata": {},
   "outputs": [],
   "source": [
    "from langchain.chat_models import ChatOpenAI\n",
    "from langchain.agents import OpenAIFunctionsAgent\n",
    "from langchain.schema import SystemMessage\n",
    "\n",
    "llm = ChatOpenAI(temperature=0)\n",
    "\n",
    "system_message = SystemMessage(\n",
    "    content=\"You are a AI Developer who uses search engines to look up information.\"\n",
    ")\n",
    "prompt = OpenAIFunctionsAgent.create_prompt(system_message=system_message)\n",
    "agent = OpenAIFunctionsAgent(llm=llm, tools=tools, prompt=prompt)"
   ]
  },
  {
   "cell_type": "code",
   "execution_count": 4,
   "metadata": {},
   "outputs": [
    {
     "name": "stdout",
     "output_type": "stream",
     "text": [
      "\n",
      "\n",
      "\u001b[1m> Entering new AgentExecutor chain...\u001b[0m\n",
      "\u001b[32;1m\u001b[1;3m\n",
      "Invoking: `search` with `{'query': 'Attention is All You Need'}`\n",
      "\n",
      "\n",
      "\u001b[0m\u001b[36;1m\u001b[1;3mTitle: The Rhythm of Your Screen - Christopher Butler\n",
      "URL: https://www.chrbutler.com/the-rhythm-of-your-screen\n",
      "ID: 0xAqeqf5p9nGPZ_EVhk4Kw\n",
      "Score: 0.13958105444908142\n",
      "Published Date: 2023-05-20\n",
      "Author: None\n",
      "Extract: None\n",
      "\n",
      "Autoprompt String: Here's a great article about \"Attention is All You Need\":\u001b[0m\u001b[32;1m\u001b[1;3mI'm sorry, but I couldn't find the specific URL for \"Attention is All You Need\" in the search results.\u001b[0m\n",
      "\n",
      "\u001b[1m> Finished chain.\u001b[0m\n"
     ]
    },
    {
     "data": {
      "text/plain": [
       "'I\\'m sorry, but I couldn\\'t find the specific URL for \"Attention is All You Need\" in the search results.'"
      ]
     },
     "execution_count": 4,
     "metadata": {},
     "output_type": "execute_result"
    }
   ],
   "source": [
    "from langchain.agents import AgentExecutor\n",
    "\n",
    "agent_executor = AgentExecutor(agent=agent, tools=tools, verbose=True)\n",
    "\n",
    "agent_executor.run(\"Give me URL of Attention is All You Need.\")"
   ]
  },
  {
   "cell_type": "code",
   "execution_count": null,
   "metadata": {},
   "outputs": [],
   "source": []
  }
 ],
 "metadata": {
  "kernelspec": {
   "display_name": "dlenv",
   "language": "python",
   "name": "python3"
  },
  "language_info": {
   "codemirror_mode": {
    "name": "ipython",
    "version": 3
   },
   "file_extension": ".py",
   "mimetype": "text/x-python",
   "name": "python",
   "nbconvert_exporter": "python",
   "pygments_lexer": "ipython3",
   "version": "3.10.13"
  }
 },
 "nbformat": 4,
 "nbformat_minor": 2
}
